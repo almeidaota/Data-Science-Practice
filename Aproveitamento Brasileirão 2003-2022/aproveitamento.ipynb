{
 "cells": [
  {
   "cell_type": "code",
   "execution_count": null,
   "id": "0eba1eb3-07a7-44b7-b25a-1eaaad9b4ec7",
   "metadata": {
    "tags": []
   },
   "outputs": [],
   "source": [
    "import pandas as pd"
   ]
  },
  {
   "cell_type": "code",
   "execution_count": null,
   "id": "ef5be6a2-4a2b-4200-91c2-961846a2e474",
   "metadata": {
    "tags": []
   },
   "outputs": [],
   "source": [
    "df = pd.read_csv('campeonato-brasileiro-full.csv')"
   ]
  },
  {
   "cell_type": "code",
   "execution_count": null,
   "id": "561889fd-c327-427f-bdf3-5d51844690dd",
   "metadata": {
    "tags": []
   },
   "outputs": [],
   "source": [
    "#filtrando as vitórias/derrotas/empates dos mandantes\n",
    "\n",
    "vitorias_mandante = df.loc[df['mandante'] == df['vencedor']].copy()\n",
    "vitorias_visitante = df.loc[df['visitante'] == df['vencedor']].copy()\n",
    "empates = df.loc[df['vencedor'] == '-'].copy()"
   ]
  },
  {
   "cell_type": "code",
   "execution_count": null,
   "id": "2b471287-ccd2-4267-9752-4b2495361580",
   "metadata": {
    "tags": []
   },
   "outputs": [],
   "source": [
    "geral = pd.DataFrame(columns = ['time', 'vitorias', 'derrotas', 'empates', 'aproveitamento'])"
   ]
  },
  {
   "cell_type": "code",
   "execution_count": null,
   "id": "ebbaed27-4dd4-46e2-b0b9-4670e8c85972",
   "metadata": {
    "tags": []
   },
   "outputs": [],
   "source": [
    "#criando a lista dos times para usar depois\n",
    "\n",
    "times = df['mandante'].value_counts()\n",
    "times = times.index.tolist()"
   ]
  },
  {
   "cell_type": "code",
   "execution_count": null,
   "id": "c5f5da97-807e-4985-a280-1533afc9062d",
   "metadata": {
    "tags": []
   },
   "outputs": [],
   "source": [
    "#calculando aproveitamento e adicionando no teste. \n",
    "for i in times:\n",
    "    \n",
    "    time = i\n",
    "    vitorias_time = vitorias_mandante.loc[vitorias_mandante['mandante'] == time].shape[0]\n",
    "    derrotas_time = vitorias_visitante.loc[vitorias_visitante['mandante'] == time].shape[0]\n",
    "    empates_time = empates.loc[empates['mandante'] == time].shape[0]\n",
    "    pconq = (vitorias_time * 3) + empates_time\n",
    "    ptot = (vitorias_time + derrotas_time + empates_time) * 3\n",
    "    aproveitamento = pconq / ptot * 100\n",
    "\n",
    "    new_row = {'time': time, 'vitorias': vitorias_time, 'derrotas': derrotas_time, 'empates': empates_time, 'aproveitamento':aproveitamento}\n",
    "    geral = geral.append(new_row, ignore_index = True)"
   ]
  },
  {
   "cell_type": "code",
   "execution_count": null,
   "id": "cf3a100f-71e9-458b-8286-f21ade6b62e5",
   "metadata": {
    "tags": []
   },
   "outputs": [],
   "source": [
    "#rankeando valores por aproveitamento\n",
    "\n",
    "geral = geral.sort_values(by = 'aproveitamento', ascending=False)\n",
    "geral.reset_index(drop = True, inplace = True)"
   ]
  },
  {
   "cell_type": "code",
   "execution_count": null,
   "id": "83f460a0-bc58-4df9-a280-b1e5964ed589",
   "metadata": {
    "tags": []
   },
   "outputs": [],
   "source": [
    "geral"
   ]
  }
 ],
 "metadata": {
  "kernelspec": {
   "display_name": "Python 3 (ipykernel)",
   "language": "python",
   "name": "python3"
  },
  "language_info": {
   "codemirror_mode": {
    "name": "ipython",
    "version": 3
   },
   "file_extension": ".py",
   "mimetype": "text/x-python",
   "name": "python",
   "nbconvert_exporter": "python",
   "pygments_lexer": "ipython3",
   "version": "3.11.3"
  }
 },
 "nbformat": 4,
 "nbformat_minor": 5
}
